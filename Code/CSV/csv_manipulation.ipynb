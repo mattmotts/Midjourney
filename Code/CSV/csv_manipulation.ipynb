{
 "cells": [
  {
   "cell_type": "markdown",
   "metadata": {},
   "source": [
    "## Convert .ndjson to Pandas\n",
    "Here we will take the .ndjson file saved from LabelBox and convert it to a more friendly looking, Pandas Dataframe"
   ]
  },
  {
   "cell_type": "code",
   "execution_count": null,
   "metadata": {},
   "outputs": [],
   "source": [
    "!pip install pandas ndjson"
   ]
  },
  {
   "cell_type": "code",
   "execution_count": null,
   "metadata": {},
   "outputs": [],
   "source": [
    "import pandas as pd\n",
    "import ndjson\n",
    "\n",
    "# Load .ndjson data\n",
    "with open('/Users/Matt/Documents/Data/mockup_data.ndjson') as f:\n",
    "    data = ndjson.load(f)\n",
    "\n",
    "# Convert to DataFrame\n",
    "df = pd.json_normalize(data)\n",
    "\n",
    "# Extract relevant columns\n",
    "annotations = []\n",
    "for item in data:\n",
    "    for project_id, project_data in item['projects'].items():\n",
    "        for label in project_data['labels']:\n",
    "            for obj in label['annotations']['objects']:\n",
    "                annotations.append({\n",
    "                    'image_id': item['data_row']['external_id'],\n",
    "                    'image_url': item['data_row']['row_data'],\n",
    "                    'label': obj['name'],\n",
    "                    'top': obj['bounding_box']['top'],\n",
    "                    'left': obj['bounding_box']['left'],\n",
    "                    'height': obj['bounding_box']['height'],\n",
    "                    'width': obj['bounding_box']['width']\n",
    "                })\n",
    "\n",
    "annotations_df = pd.DataFrame(annotations)\n",
    "\n",
    "# Save the DataFrame to a CSV file if needed\n",
    "annotations_df.to_csv('/Users/Matt/Documents/Data/mockup_data.csv', index=False)\n",
    "\n",
    "print(annotations_df)\n"
   ]
  },
  {
   "cell_type": "markdown",
   "metadata": {},
   "source": [
    "# Convert URL Path to Local"
   ]
  },
  {
   "cell_type": "code",
   "execution_count": null,
   "metadata": {},
   "outputs": [],
   "source": [
    "import pandas as pd\n",
    "\n",
    "# Load the data from the CSV file\n",
    "file_path = '/Users/Matt/Documents/Data/mockup_data.csv'  # Update this with the correct file path\n",
    "df = pd.read_csv(file_path)\n",
    "\n",
    "# Display the initial DataFrame\n",
    "print(\"Initial DataFrame:\")\n",
    "print(df)\n",
    "\n",
    "# Drop the 'image_url' column\n",
    "df = df.drop(columns=['image_url'])\n",
    "\n",
    "# Define the base path for the new column\n",
    "base_path = '/Users/Matt/Pictures/Midjourney/Imagine/Mockups/'\n",
    "\n",
    "# Create the new 'image_path' column using the 'image_id' values\n",
    "df['image_path'] = base_path + df['image_id']\n",
    "\n",
    "# Reorder the columns\n",
    "columns_order = ['image_id', 'image_path', 'label', 'top', 'left', 'height', 'width']\n",
    "df = df[columns_order]\n",
    "\n",
    "# Display the modified DataFrame\n",
    "print(\"Modified DataFrame with new 'image_path' column:\")\n",
    "print(df)\n",
    "\n",
    "# Save the modified DataFrame back to a CSV file if needed\n",
    "modified_file_path = '/Users/Matt/Documents/Data/mockup_data.csv'\n",
    "df.to_csv(modified_file_path, index=False)\n",
    "\n",
    "# # Display the modified DataFrame using the ace_tools display function\n",
    "# import ace_tools as tools; tools.display_dataframe_to_user(name=\"Converted Image Paths With New Column\", dataframe=df)\n"
   ]
  }
 ],
 "metadata": {
  "language_info": {
   "name": "python"
  }
 },
 "nbformat": 4,
 "nbformat_minor": 2
}
