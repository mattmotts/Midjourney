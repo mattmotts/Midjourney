{
 "cells": [
  {
   "cell_type": "markdown",
   "metadata": {},
   "source": [
    "## Outline of Notebook"
   ]
  },
  {
   "cell_type": "markdown",
   "metadata": {},
   "source": [
    "At this point I have already:\n",
    "- created a 3:2 sized image in MJ\n",
    "- downloaded that image to 'downloads' folder locally, save as 'imagename_1x.png'\n",
    "\n",
    "What this notebook will do:\n",
    "\n",
    "MJ Image\n",
    "- take image, rescale to 4:3 & 5:4 aspect ratios; and copy 1x image\n",
    "- ensure two rescaled images and copied 1x image all have naming scheme 'imagename_AR.png' , be sure to replace AR with whatever aspect ratio it is being converted or copied to. Thus, the 1x image being copied will always be name 'imagename_32.png'\n",
    "- UPSCAYL APP : run the download folder with 4 images through the pixel upscayl app\n",
    "- run code to take images out of the folder within the path: /Users/Matt/Pictures/Midjourney/Imagine/Downloads , and replace them with the images already at this path\n",
    "- run the DPI code on this path /Users/Matt/Pictures/Midjourney/Imagine/Downloads\n",
    "- 4 images remain in the download folder\n",
    "\n",
    "Mockup App Process\n",
    "\n",
    "- 10 or so images should now be in the download folder after the mockups have been created\n",
    "- all images should be named correctly\n",
    "- create a folder within the prelisting folder based on the first name of the image 'imagename' in 'imagename_1x.png' from above\n",
    "- move these images to that folder \n",
    "- within that 'imagename' folder, create two folders 'etsy' and 'google docs'\n",
    "- sort the images with 'mockups' in their saved name and images with '1x' in their name to the etsy folder, the rest to the google docs folder\n",
    "\n",
    "- Done"
   ]
  },
  {
   "cell_type": "markdown",
   "metadata": {},
   "source": [
    "- download image from midjourney\n",
    "- run first cell of code\n",
    "- upscayl download folder\n",
    "- run mockup app\n",
    "- run second cell of code"
   ]
  },
  {
   "cell_type": "markdown",
   "metadata": {},
   "source": [
    "------------"
   ]
  },
  {
   "cell_type": "markdown",
   "metadata": {},
   "source": [
    "-----"
   ]
  },
  {
   "cell_type": "markdown",
   "metadata": {},
   "source": [
    "## Landscape"
   ]
  },
  {
   "cell_type": "markdown",
   "metadata": {},
   "source": [
    "### 1) Download and Rename 3:2 Image from Midjourney"
   ]
  },
  {
   "cell_type": "markdown",
   "metadata": {},
   "source": [
    "### 2) Run the code below to create 4:3 and 5:4 variants"
   ]
  },
  {
   "cell_type": "code",
   "execution_count": 5,
   "metadata": {},
   "outputs": [
    {
     "name": "stdout",
     "output_type": "stream",
     "text": [
      "Saved resized image: /Users/matt/Pictures/Midjourney/Imagine/Downloads/fallporch_43.png\n",
      "Saved resized image: /Users/matt/Pictures/Midjourney/Imagine/Downloads/fallporch_54.png\n",
      "Saved resized image: /Users/matt/Pictures/Midjourney/Imagine/Downloads/fallporch_14x11.png\n",
      "Saved resized image: /Users/matt/Pictures/Midjourney/Imagine/Downloads/fallporch_ISO.png\n",
      "Copied original image to: /Users/matt/Pictures/Midjourney/Imagine/Downloads/fallporch_32.png\n"
     ]
    }
   ],
   "source": [
    "from PIL import Image\n",
    "import os\n",
    "import shutil\n",
    "\n",
    "def analyze_image_name(directory):\n",
    "    for root, dirs, files in os.walk(directory):\n",
    "        for file in files:\n",
    "            if file.endswith(\"_1x.png\"):\n",
    "                return file, os.path.join(root, file)\n",
    "    return None, None\n",
    "\n",
    "def resize_image(image_path, aspect_ratio, new_name):\n",
    "    with Image.open(image_path) as img:\n",
    "        width, height = img.size\n",
    "        \n",
    "        # Calculate new dimensions based on aspect ratio\n",
    "        if aspect_ratio == (4, 3):\n",
    "            new_height = int(width * 3 / 4)\n",
    "        elif aspect_ratio == (5, 4):\n",
    "            new_height = int(width * 4 / 5)\n",
    "        elif aspect_ratio == (14, 11):\n",
    "            new_height = int(width * 11 / 14)\n",
    "        elif aspect_ratio == (1, 1.414):  # ISO aspect ratio\n",
    "            new_height = int(width / 1.414)\n",
    "        else:\n",
    "            raise ValueError(\"Unsupported aspect ratio\")\n",
    "        \n",
    "        resized_img = img.resize((width, new_height), Image.LANCZOS)\n",
    "        \n",
    "        # Save the resized image\n",
    "        resized_img.save(new_name)\n",
    "        print(f\"Saved resized image: {new_name}\")\n",
    "\n",
    "def process_images(directory):\n",
    "    image_name, file_path = analyze_image_name(directory)\n",
    "    \n",
    "    if not image_name or not file_path:\n",
    "        print(\"No _1x.png image found.\")\n",
    "        return\n",
    "    \n",
    "    base_name = image_name.split('_1x')[0]\n",
    "    \n",
    "    # Create new names for the resized and copied images\n",
    "    new_name_43 = os.path.join(directory, f\"{base_name}_43.png\")\n",
    "    new_name_54 = os.path.join(directory, f\"{base_name}_54.png\")\n",
    "    new_name_11x14 = os.path.join(directory, f\"{base_name}_14x11.png\")\n",
    "    new_name_ISO = os.path.join(directory, f\"{base_name}_ISO.png\")\n",
    "    copied_name_32 = os.path.join(directory, f\"{base_name}_32.png\")\n",
    "    \n",
    "    # Resize and save the images\n",
    "    resize_image(file_path, (4, 3), new_name_43)      # 4:3 ratio\n",
    "    resize_image(file_path, (5, 4), new_name_54)      # 5:4 ratio\n",
    "    resize_image(file_path, (14, 11), new_name_11x14) # 11x14 ratio\n",
    "    resize_image(file_path, (1, 1.414), new_name_ISO) # ISO ratio (1:1.414)\n",
    "    \n",
    "    # Copy the original image to a new file with the _32 naming scheme\n",
    "    shutil.copy(file_path, copied_name_32)\n",
    "    print(f\"Copied original image to: {copied_name_32}\")\n",
    "\n",
    "# Path to your download directory\n",
    "download_directory = '/Users/matt/Pictures/Midjourney/Imagine/Downloads'\n",
    "\n",
    "# Process images for resizing and copying\n",
    "process_images(download_directory)\n"
   ]
  },
  {
   "cell_type": "markdown",
   "metadata": {},
   "source": [
    "### 3) Upscayl the Downloads folder x8"
   ]
  },
  {
   "cell_type": "markdown",
   "metadata": {},
   "source": [
    "### 4) Create Mockups with the mockup app"
   ]
  },
  {
   "cell_type": "markdown",
   "metadata": {},
   "source": [
    "### 5) Run the code below to increase DPI to 300, and move images into prelisting folder"
   ]
  },
  {
   "cell_type": "code",
   "execution_count": 6,
   "metadata": {},
   "outputs": [
    {
     "name": "stdout",
     "output_type": "stream",
     "text": [
      "Processing folder: /Users/matt/Pictures/Midjourney/Imagine/Downloads/upscayl_png_realesrgan-x4plus_6x\n",
      "Replaced: /Users/matt/Pictures/Midjourney/Imagine/Downloads/fallporch_43.png\n",
      "Moved: /Users/matt/Pictures/Midjourney/Imagine/Downloads/upscayl_png_realesrgan-x4plus_6x/fallporch_43.png to /Users/matt/Pictures/Midjourney/Imagine/Downloads\n",
      "Replaced: /Users/matt/Pictures/Midjourney/Imagine/Downloads/fallporch_14x11.png\n",
      "Moved: /Users/matt/Pictures/Midjourney/Imagine/Downloads/upscayl_png_realesrgan-x4plus_6x/fallporch_14x11.png to /Users/matt/Pictures/Midjourney/Imagine/Downloads\n",
      "Replaced: /Users/matt/Pictures/Midjourney/Imagine/Downloads/fallporch_54.png\n",
      "Moved: /Users/matt/Pictures/Midjourney/Imagine/Downloads/upscayl_png_realesrgan-x4plus_6x/fallporch_54.png to /Users/matt/Pictures/Midjourney/Imagine/Downloads\n",
      "Replaced: /Users/matt/Pictures/Midjourney/Imagine/Downloads/fallporch_32.png\n",
      "Moved: /Users/matt/Pictures/Midjourney/Imagine/Downloads/upscayl_png_realesrgan-x4plus_6x/fallporch_32.png to /Users/matt/Pictures/Midjourney/Imagine/Downloads\n",
      "Replaced: /Users/matt/Pictures/Midjourney/Imagine/Downloads/fallporch_1x.png\n",
      "Moved: /Users/matt/Pictures/Midjourney/Imagine/Downloads/upscayl_png_realesrgan-x4plus_6x/fallporch_1x.png to /Users/matt/Pictures/Midjourney/Imagine/Downloads\n",
      "Replaced: /Users/matt/Pictures/Midjourney/Imagine/Downloads/fallporch_ISO.png\n",
      "Moved: /Users/matt/Pictures/Midjourney/Imagine/Downloads/upscayl_png_realesrgan-x4plus_6x/fallporch_ISO.png to /Users/matt/Pictures/Midjourney/Imagine/Downloads\n",
      "Deleted folder: /Users/matt/Pictures/Midjourney/Imagine/Downloads/upscayl_png_realesrgan-x4plus_6x\n",
      "    1 image files updated\n",
      "Successfully set DPI to 300 for all images in /Users/matt/Pictures/Midjourney/Imagine/Downloads/fallporch_43.png\n"
     ]
    },
    {
     "name": "stderr",
     "output_type": "stream",
     "text": [
      "Warning: Can't convert IFD0:ResolutionUnit (not in PrintConv)\n",
      "Warning: Can't convert IFD0:ResolutionUnit (not in PrintConv)\n"
     ]
    },
    {
     "name": "stdout",
     "output_type": "stream",
     "text": [
      "    1 image files updated\n",
      "Successfully set DPI to 300 for all images in /Users/matt/Pictures/Midjourney/Imagine/Downloads/fallporch_14x11.png\n",
      "    1 image files updated\n",
      "Successfully set DPI to 300 for all images in /Users/matt/Pictures/Midjourney/Imagine/Downloads/fallporch_54.png\n"
     ]
    },
    {
     "name": "stderr",
     "output_type": "stream",
     "text": [
      "Warning: Can't convert IFD0:ResolutionUnit (not in PrintConv)\n",
      "Warning: Can't convert IFD0:ResolutionUnit (not in PrintConv)\n"
     ]
    },
    {
     "name": "stdout",
     "output_type": "stream",
     "text": [
      "    1 image files updated\n",
      "Successfully set DPI to 300 for all images in /Users/matt/Pictures/Midjourney/Imagine/Downloads/fallporch_32.png\n",
      "    1 image files updated\n",
      "Successfully set DPI to 300 for all images in /Users/matt/Pictures/Midjourney/Imagine/Downloads/fallporch_ISO.png\n",
      "Moved fallporch_mockup_0021.png to /Users/matt/Pictures/Midjourney/Digital Products/DoubleVision/Matisse/Prelisting/fallporch/etsy\n",
      "Moved fallporch_43.png to /Users/matt/Pictures/Midjourney/Digital Products/DoubleVision/Matisse/Prelisting/fallporch/google_docs\n",
      "Moved fallporch_14x11.png to /Users/matt/Pictures/Midjourney/Digital Products/DoubleVision/Matisse/Prelisting/fallporch/google_docs\n",
      "Moved fallporch_54.png to /Users/matt/Pictures/Midjourney/Digital Products/DoubleVision/Matisse/Prelisting/fallporch/google_docs\n",
      "Moved fallporch_32.png to /Users/matt/Pictures/Midjourney/Digital Products/DoubleVision/Matisse/Prelisting/fallporch/google_docs\n",
      "Moved fallporch_mockup_0055.png to /Users/matt/Pictures/Midjourney/Digital Products/DoubleVision/Matisse/Prelisting/fallporch/etsy\n",
      "Moved fallporch_1x.png to /Users/matt/Pictures/Midjourney/Digital Products/DoubleVision/Matisse/Prelisting/fallporch/etsy\n",
      "Moved fallporch_mockup_0054.png to /Users/matt/Pictures/Midjourney/Digital Products/DoubleVision/Matisse/Prelisting/fallporch/etsy\n",
      "Moved fallporch_mockup_0044.png to /Users/matt/Pictures/Midjourney/Digital Products/DoubleVision/Matisse/Prelisting/fallporch/etsy\n",
      "Moved fallporch_mockup_0059.png to /Users/matt/Pictures/Midjourney/Digital Products/DoubleVision/Matisse/Prelisting/fallporch/etsy\n",
      "Moved fallporch_ISO.png to /Users/matt/Pictures/Midjourney/Digital Products/DoubleVision/Matisse/Prelisting/fallporch/google_docs\n",
      "Moved fallporch_mockup_0010.png to /Users/matt/Pictures/Midjourney/Digital Products/DoubleVision/Matisse/Prelisting/fallporch/etsy\n",
      "Renamed: /Users/matt/Pictures/Midjourney/Digital Products/DoubleVision/Matisse/Prelisting/fallporch/google_docs/fallporch_43.png to /Users/matt/Pictures/Midjourney/Digital Products/DoubleVision/Matisse/Prelisting/fallporch/google_docs/4x3.png\n",
      "Renamed: /Users/matt/Pictures/Midjourney/Digital Products/DoubleVision/Matisse/Prelisting/fallporch/google_docs/fallporch_14x11.png to /Users/matt/Pictures/Midjourney/Digital Products/DoubleVision/Matisse/Prelisting/fallporch/google_docs/14x11.png\n",
      "Renamed: /Users/matt/Pictures/Midjourney/Digital Products/DoubleVision/Matisse/Prelisting/fallporch/google_docs/fallporch_54.png to /Users/matt/Pictures/Midjourney/Digital Products/DoubleVision/Matisse/Prelisting/fallporch/google_docs/5x4.png\n",
      "Renamed: /Users/matt/Pictures/Midjourney/Digital Products/DoubleVision/Matisse/Prelisting/fallporch/google_docs/fallporch_32.png to /Users/matt/Pictures/Midjourney/Digital Products/DoubleVision/Matisse/Prelisting/fallporch/google_docs/3x2.png\n",
      "Renamed: /Users/matt/Pictures/Midjourney/Digital Products/DoubleVision/Matisse/Prelisting/fallporch/google_docs/fallporch_ISO.png to /Users/matt/Pictures/Midjourney/Digital Products/DoubleVision/Matisse/Prelisting/fallporch/google_docs/ISO.png\n"
     ]
    },
    {
     "name": "stderr",
     "output_type": "stream",
     "text": [
      "Warning: Can't convert IFD0:ResolutionUnit (not in PrintConv)\n"
     ]
    }
   ],
   "source": [
    "import os\n",
    "import shutil\n",
    "import subprocess\n",
    "from PIL import Image\n",
    "\n",
    "def move_and_replace_images_in_directory(directory):\n",
    "    # Find the new folder within the download directory\n",
    "    subfolders = [f.path for f in os.scandir(directory) if f.is_dir()]\n",
    "    if not subfolders:\n",
    "        print(\"No subfolder found in the downloads directory.\")\n",
    "        return\n",
    "\n",
    "    new_folder = subfolders[0]  # Assuming there's only one subfolder\n",
    "    print(f\"Processing folder: {new_folder}\")\n",
    "\n",
    "    # Move images back to the parent directory and replace if names match\n",
    "    for file_name in os.listdir(new_folder):\n",
    "        source_path = os.path.join(new_folder, file_name)\n",
    "        destination_path = os.path.join(directory, file_name)\n",
    "        \n",
    "        if os.path.exists(destination_path):\n",
    "            os.remove(destination_path)\n",
    "            print(f\"Replaced: {destination_path}\")\n",
    "        \n",
    "        shutil.move(source_path, directory)\n",
    "        print(f\"Moved: {source_path} to {directory}\")\n",
    "    \n",
    "    # Safely delete the new folder, ensuring it's not named 'downloads'\n",
    "    if os.path.basename(new_folder).lower() != 'downloads':\n",
    "        shutil.rmtree(new_folder)\n",
    "        print(f\"Deleted folder: {new_folder}\")\n",
    "    else:\n",
    "        print(\"Safety check: Attempted to delete a folder named 'downloads'. Aborting deletion.\")\n",
    "\n",
    "def set_dpi_exiftool(directory_path, dpi=300):\n",
    "    try:\n",
    "        # Construct the ExifTool command\n",
    "        command = [\n",
    "            \"exiftool\",\n",
    "            \"-overwrite_original\", \n",
    "            \"-r\", \n",
    "            f\"-XResolution={dpi}\",\n",
    "            f\"-YResolution={dpi}\",\n",
    "            \"-ResolutionUnit=2\", \n",
    "            directory_path\n",
    "        ]\n",
    "        \n",
    "        # Run the command using subprocess\n",
    "        subprocess.run(command, check=True)\n",
    "        print(f\"Successfully set DPI to {dpi} for all images in {directory_path}\")\n",
    "    except subprocess.CalledProcessError as e:\n",
    "        print(f\"An error occurred while setting DPI: {e}\")\n",
    "    except Exception as e:\n",
    "        print(f\"An unexpected error occurred: {e}\")\n",
    "\n",
    "def adjust_dpi_for_selected_images(directory):\n",
    "    for root, dirs, files in os.walk(directory):\n",
    "        for file in files:\n",
    "            if any(suffix in file for suffix in [\"_43.png\", \"_54.png\", \"_32.png\", \"_ISO.png\", \"_14x11.png\"]):\n",
    "                file_path = os.path.join(root, file)\n",
    "                set_dpi_exiftool(file_path, dpi=300)\n",
    "\n",
    "def organize_images(directory, prelisting_folder):\n",
    "    image_names = [file for file in os.listdir(directory) if file.lower().endswith(('.png', '.jpg', '.jpeg', '.tiff', '.bmp', '.gif'))]\n",
    "    \n",
    "    # Determine base name from the first image with \"_1x.png\"\n",
    "    base_name = None\n",
    "    for image_name in image_names:\n",
    "        if \"_1x.png\" in image_name:\n",
    "            base_name = image_name.split('_1x')[0]\n",
    "            break\n",
    "\n",
    "    if not base_name:\n",
    "        print(\"No _1x.png image found.\")\n",
    "        return\n",
    "    \n",
    "    # Create directories for organizing images\n",
    "    new_dir = os.path.join(prelisting_folder, base_name)\n",
    "    etsy_dir = os.path.join(new_dir, 'etsy')\n",
    "    google_docs_dir = os.path.join(new_dir, 'google_docs')\n",
    "    os.makedirs(etsy_dir, exist_ok=True)\n",
    "    os.makedirs(google_docs_dir, exist_ok=True)\n",
    "    \n",
    "    for image_name in image_names:\n",
    "        file_path = os.path.join(directory, image_name)\n",
    "        \n",
    "        if \"_1x.png\" in image_name or \"mockup\" in image_name.lower():\n",
    "            shutil.move(file_path, os.path.join(etsy_dir, image_name))\n",
    "            print(f\"Moved {image_name} to {etsy_dir}\")\n",
    "        elif any(suffix in image_name for suffix in [\"_43.png\", \"_54.png\", \"_32.png\", \"_ISO.png\", \"_14x11.png\"]):\n",
    "            shutil.move(file_path, os.path.join(google_docs_dir, image_name))\n",
    "            print(f\"Moved {image_name} to {google_docs_dir}\")\n",
    "\n",
    "    # Rename the files in the google_docs directory\n",
    "    rename_files_in_google_docs(google_docs_dir)\n",
    "\n",
    "def rename_files_in_google_docs(google_docs_dir):\n",
    "    for file_name in os.listdir(google_docs_dir):\n",
    "        # Initialize new_name as None\n",
    "        new_name = None\n",
    "        \n",
    "        # Replace aspect ratio suffixes with appropriate format for horizontal/landscape variants\n",
    "        if \"_43.png\" in file_name:\n",
    "            new_name = \"4x3.png\"\n",
    "        elif \"_54.png\" in file_name:\n",
    "            new_name = \"5x4.png\"\n",
    "        elif \"_32.png\" in file_name:\n",
    "            new_name = \"3x2.png\"\n",
    "        elif \"_14x11.png\" in file_name:\n",
    "            new_name = \"14x11.png\"\n",
    "        elif \"_ISO.png\" in file_name:\n",
    "            new_name = \"ISO.png\"\n",
    "        \n",
    "        if new_name:\n",
    "            old_path = os.path.join(google_docs_dir, file_name)\n",
    "            new_path = os.path.join(google_docs_dir, new_name)\n",
    "            os.rename(old_path, new_path)\n",
    "            print(f\"Renamed: {old_path} to {new_path}\")\n",
    "\n",
    "# Paths\n",
    "download_directory = '/Users/matt/Pictures/Midjourney/Imagine/Downloads'\n",
    "prelisting_folder = '/Users/matt/Pictures/Midjourney/Digital Products/DoubleVision/Matisse/Prelisting'\n",
    "\n",
    "# Move and replace images, then delete the subfolder\n",
    "move_and_replace_images_in_directory(download_directory)\n",
    "\n",
    "# Adjust DPI for selected images\n",
    "adjust_dpi_for_selected_images(download_directory)\n",
    "\n",
    "# Organize images into folders and rename them in google_docs folder\n",
    "organize_images(download_directory, prelisting_folder)\n"
   ]
  },
  {
   "cell_type": "markdown",
   "metadata": {},
   "source": [
    "----"
   ]
  },
  {
   "cell_type": "markdown",
   "metadata": {},
   "source": [
    "## Portrait"
   ]
  },
  {
   "cell_type": "markdown",
   "metadata": {},
   "source": [
    "### 1) Download and Rename 2:3 Image from Midjourney"
   ]
  },
  {
   "cell_type": "markdown",
   "metadata": {},
   "source": [
    "### 2) Run the code below to create 3:4 and 4:5 variants"
   ]
  },
  {
   "cell_type": "code",
   "execution_count": 10,
   "metadata": {},
   "outputs": [
    {
     "name": "stdout",
     "output_type": "stream",
     "text": [
      "Saved resized image: /Users/matt/Pictures/Midjourney/Imagine/Downloads/pumpkinporch_34.png\n",
      "Saved resized image: /Users/matt/Pictures/Midjourney/Imagine/Downloads/pumpkinporch_45.png\n",
      "Saved resized image: /Users/matt/Pictures/Midjourney/Imagine/Downloads/pumpkinporch_11x14.png\n",
      "Saved resized image: /Users/matt/Pictures/Midjourney/Imagine/Downloads/pumpkinporch_ISO.png\n",
      "Copied original image to: /Users/matt/Pictures/Midjourney/Imagine/Downloads/pumpkinporch_23.png\n"
     ]
    }
   ],
   "source": [
    "from PIL import Image\n",
    "import os\n",
    "import shutil\n",
    "\n",
    "def analyze_image_name(directory):\n",
    "    for root, dirs, files in os.walk(directory):\n",
    "        for file in files:\n",
    "            if file.endswith(\"_1x.png\"):\n",
    "                return file, os.path.join(root, file)\n",
    "    return None, None\n",
    "\n",
    "def resize_image(image_path, aspect_ratio, new_name):\n",
    "    with Image.open(image_path) as img:\n",
    "        width, height = img.size\n",
    "        \n",
    "        # Calculate new dimensions\n",
    "        if aspect_ratio == (3, 4):  # 3:4 aspect ratio (vertical)\n",
    "            new_height = int(width * 4 / 3)\n",
    "            resized_img = img.resize((width, new_height), Image.LANCZOS)\n",
    "        elif aspect_ratio == (4, 5):  # 4:5 aspect ratio (vertical)\n",
    "            new_height = int(width * 5 / 4)\n",
    "            resized_img = img.resize((width, new_height), Image.LANCZOS)\n",
    "        elif aspect_ratio == (11, 14):  # 11x14 aspect ratio (vertical)\n",
    "            new_height = int(width * 14 / 11)\n",
    "            resized_img = img.resize((width, new_height), Image.LANCZOS)\n",
    "        elif aspect_ratio == (1, 1.414):  # ISO aspect ratio (vertical)\n",
    "            new_height = int(width * 1.414)\n",
    "            resized_img = img.resize((width, new_height), Image.LANCZOS)\n",
    "        else:\n",
    "            raise ValueError(\"Unsupported aspect ratio\")\n",
    "        \n",
    "        # Save the resized image\n",
    "        resized_img.save(new_name)\n",
    "        print(f\"Saved resized image: {new_name}\")\n",
    "\n",
    "def process_images(directory):\n",
    "    image_name, file_path = analyze_image_name(directory)\n",
    "    \n",
    "    if not image_name or not file_path:\n",
    "        print(\"No _1x.png image found.\")\n",
    "        return\n",
    "    \n",
    "    base_name = image_name.split('_1x')[0]\n",
    "    \n",
    "    # Create new names for the resized and copied images\n",
    "    new_name_34 = os.path.join(directory, f\"{base_name}_34.png\")\n",
    "    new_name_45 = os.path.join(directory, f\"{base_name}_45.png\")\n",
    "    new_name_14x11 = os.path.join(directory, f\"{base_name}_11x14.png\")\n",
    "    new_name_ISO = os.path.join(directory, f\"{base_name}_ISO.png\")\n",
    "    copied_name_23 = os.path.join(directory, f\"{base_name}_23.png\")\n",
    "    \n",
    "    # Resize and save the images\n",
    "    resize_image(file_path, (3, 4), new_name_34)      # 3:4 ratio (vertical)\n",
    "    resize_image(file_path, (4, 5), new_name_45)      # 4:5 ratio (vertical)\n",
    "    resize_image(file_path, (11, 14), new_name_14x11) # 14x11 ratio (vertical)\n",
    "    resize_image(file_path, (1, 1.414), new_name_ISO) # ISO ratio (1:1.414, vertical)\n",
    "    \n",
    "    # Copy the original image to a new file with the _23 naming scheme\n",
    "    shutil.copy(file_path, copied_name_23)\n",
    "    print(f\"Copied original image to: {copied_name_23}\")\n",
    "\n",
    "# Path to your download directory\n",
    "download_directory = '/Users/matt/Pictures/Midjourney/Imagine/Downloads'\n",
    "\n",
    "# Process images for resizing and copying\n",
    "process_images(download_directory)\n"
   ]
  },
  {
   "cell_type": "markdown",
   "metadata": {},
   "source": [
    "### 3) Upscayl the Downloads folder"
   ]
  },
  {
   "cell_type": "markdown",
   "metadata": {},
   "source": [
    "### 4) Create Mockups with the mockup app"
   ]
  },
  {
   "cell_type": "markdown",
   "metadata": {},
   "source": [
    "### 5) Run the code below to increase DPI to 300, and move images into prelisting folder"
   ]
  },
  {
   "cell_type": "code",
   "execution_count": 11,
   "metadata": {},
   "outputs": [
    {
     "name": "stdout",
     "output_type": "stream",
     "text": [
      "Processing folder: /Users/matt/Pictures/Midjourney/Imagine/Downloads/upscayl_png_realesrgan-x4plus_6x\n",
      "Replaced: /Users/matt/Pictures/Midjourney/Imagine/Downloads/pumpkinporch_ISO.png\n",
      "Moved: /Users/matt/Pictures/Midjourney/Imagine/Downloads/upscayl_png_realesrgan-x4plus_6x/pumpkinporch_ISO.png to /Users/matt/Pictures/Midjourney/Imagine/Downloads\n",
      "Replaced: /Users/matt/Pictures/Midjourney/Imagine/Downloads/pumpkinporch_45.png\n",
      "Moved: /Users/matt/Pictures/Midjourney/Imagine/Downloads/upscayl_png_realesrgan-x4plus_6x/pumpkinporch_45.png to /Users/matt/Pictures/Midjourney/Imagine/Downloads\n",
      "Replaced: /Users/matt/Pictures/Midjourney/Imagine/Downloads/pumpkinporch_11x14.png\n",
      "Moved: /Users/matt/Pictures/Midjourney/Imagine/Downloads/upscayl_png_realesrgan-x4plus_6x/pumpkinporch_11x14.png to /Users/matt/Pictures/Midjourney/Imagine/Downloads\n",
      "Replaced: /Users/matt/Pictures/Midjourney/Imagine/Downloads/pumpkinporch_34.png\n",
      "Moved: /Users/matt/Pictures/Midjourney/Imagine/Downloads/upscayl_png_realesrgan-x4plus_6x/pumpkinporch_34.png to /Users/matt/Pictures/Midjourney/Imagine/Downloads\n",
      "Replaced: /Users/matt/Pictures/Midjourney/Imagine/Downloads/pumpkinporch_23.png\n",
      "Moved: /Users/matt/Pictures/Midjourney/Imagine/Downloads/upscayl_png_realesrgan-x4plus_6x/pumpkinporch_23.png to /Users/matt/Pictures/Midjourney/Imagine/Downloads\n",
      "Replaced: /Users/matt/Pictures/Midjourney/Imagine/Downloads/pumpkinporch_1x.png\n",
      "Moved: /Users/matt/Pictures/Midjourney/Imagine/Downloads/upscayl_png_realesrgan-x4plus_6x/pumpkinporch_1x.png to /Users/matt/Pictures/Midjourney/Imagine/Downloads\n",
      "Deleted folder: /Users/matt/Pictures/Midjourney/Imagine/Downloads/upscayl_png_realesrgan-x4plus_6x\n",
      "    1 image files updated\n",
      "Successfully set DPI to 300 for all images in /Users/matt/Pictures/Midjourney/Imagine/Downloads/pumpkinporch_ISO.png\n"
     ]
    },
    {
     "name": "stderr",
     "output_type": "stream",
     "text": [
      "Warning: Can't convert IFD0:ResolutionUnit (not in PrintConv)\n",
      "Warning: Can't convert IFD0:ResolutionUnit (not in PrintConv)\n"
     ]
    },
    {
     "name": "stdout",
     "output_type": "stream",
     "text": [
      "    1 image files updated\n",
      "Successfully set DPI to 300 for all images in /Users/matt/Pictures/Midjourney/Imagine/Downloads/pumpkinporch_45.png\n",
      "    1 image files updated\n",
      "Successfully set DPI to 300 for all images in /Users/matt/Pictures/Midjourney/Imagine/Downloads/pumpkinporch_11x14.png\n"
     ]
    },
    {
     "name": "stderr",
     "output_type": "stream",
     "text": [
      "Warning: Can't convert IFD0:ResolutionUnit (not in PrintConv)\n",
      "Warning: Can't convert IFD0:ResolutionUnit (not in PrintConv)\n"
     ]
    },
    {
     "name": "stdout",
     "output_type": "stream",
     "text": [
      "    1 image files updated\n",
      "Successfully set DPI to 300 for all images in /Users/matt/Pictures/Midjourney/Imagine/Downloads/pumpkinporch_34.png\n",
      "    1 image files updated\n",
      "Successfully set DPI to 300 for all images in /Users/matt/Pictures/Midjourney/Imagine/Downloads/pumpkinporch_23.png\n",
      "Moved pumpkinporch_ISO.png to /Users/matt/Pictures/Midjourney/Digital Products/DoubleVision/Matisse/Prelisting/pumpkinporch/google_docs\n",
      "Moved pumpkinporch_mockup_0043.png to /Users/matt/Pictures/Midjourney/Digital Products/DoubleVision/Matisse/Prelisting/pumpkinporch/etsy\n",
      "Moved pumpkinporch_mockup_0019.png to /Users/matt/Pictures/Midjourney/Digital Products/DoubleVision/Matisse/Prelisting/pumpkinporch/etsy\n",
      "Moved pumpkinporch_mockup_0031.png to /Users/matt/Pictures/Midjourney/Digital Products/DoubleVision/Matisse/Prelisting/pumpkinporch/etsy\n",
      "Moved pumpkinporch_mockup_0008.png to /Users/matt/Pictures/Midjourney/Digital Products/DoubleVision/Matisse/Prelisting/pumpkinporch/etsy\n",
      "Moved pumpkinporch_mockup_0013.png to /Users/matt/Pictures/Midjourney/Digital Products/DoubleVision/Matisse/Prelisting/pumpkinporch/etsy\n",
      "Moved pumpkinporch_45.png to /Users/matt/Pictures/Midjourney/Digital Products/DoubleVision/Matisse/Prelisting/pumpkinporch/google_docs\n",
      "Moved pumpkinporch_11x14.png to /Users/matt/Pictures/Midjourney/Digital Products/DoubleVision/Matisse/Prelisting/pumpkinporch/google_docs\n",
      "Moved pumpkinporch_34.png to /Users/matt/Pictures/Midjourney/Digital Products/DoubleVision/Matisse/Prelisting/pumpkinporch/google_docs\n",
      "Moved pumpkinporch_23.png to /Users/matt/Pictures/Midjourney/Digital Products/DoubleVision/Matisse/Prelisting/pumpkinporch/google_docs\n",
      "Moved pumpkinporch_1x.png to /Users/matt/Pictures/Midjourney/Digital Products/DoubleVision/Matisse/Prelisting/pumpkinporch/etsy\n",
      "Moved pumpkinporch_mockup_0048.png to /Users/matt/Pictures/Midjourney/Digital Products/DoubleVision/Matisse/Prelisting/pumpkinporch/etsy\n",
      "Renamed: /Users/matt/Pictures/Midjourney/Digital Products/DoubleVision/Matisse/Prelisting/pumpkinporch/google_docs/pumpkinporch_ISO.png to /Users/matt/Pictures/Midjourney/Digital Products/DoubleVision/Matisse/Prelisting/pumpkinporch/google_docs/ISO.png\n",
      "Renamed: /Users/matt/Pictures/Midjourney/Digital Products/DoubleVision/Matisse/Prelisting/pumpkinporch/google_docs/pumpkinporch_45.png to /Users/matt/Pictures/Midjourney/Digital Products/DoubleVision/Matisse/Prelisting/pumpkinporch/google_docs/4x5.png\n",
      "Renamed: /Users/matt/Pictures/Midjourney/Digital Products/DoubleVision/Matisse/Prelisting/pumpkinporch/google_docs/pumpkinporch_11x14.png to /Users/matt/Pictures/Midjourney/Digital Products/DoubleVision/Matisse/Prelisting/pumpkinporch/google_docs/11x14.png\n",
      "Renamed: /Users/matt/Pictures/Midjourney/Digital Products/DoubleVision/Matisse/Prelisting/pumpkinporch/google_docs/pumpkinporch_34.png to /Users/matt/Pictures/Midjourney/Digital Products/DoubleVision/Matisse/Prelisting/pumpkinporch/google_docs/3x4.png\n",
      "Renamed: /Users/matt/Pictures/Midjourney/Digital Products/DoubleVision/Matisse/Prelisting/pumpkinporch/google_docs/pumpkinporch_23.png to /Users/matt/Pictures/Midjourney/Digital Products/DoubleVision/Matisse/Prelisting/pumpkinporch/google_docs/3x2.png\n"
     ]
    },
    {
     "name": "stderr",
     "output_type": "stream",
     "text": [
      "Warning: Can't convert IFD0:ResolutionUnit (not in PrintConv)\n"
     ]
    }
   ],
   "source": [
    "import os\n",
    "import shutil\n",
    "import subprocess\n",
    "from PIL import Image\n",
    "\n",
    "def move_and_replace_images_in_directory(directory):\n",
    "    # Find the new folder within the download directory\n",
    "    subfolders = [f.path for f in os.scandir(directory) if f.is_dir()]\n",
    "    if not subfolders:\n",
    "        print(\"No subfolder found in the downloads directory.\")\n",
    "        return\n",
    "\n",
    "    new_folder = subfolders[0]  # Assuming there's only one subfolder\n",
    "    print(f\"Processing folder: {new_folder}\")\n",
    "\n",
    "    # Move images back to the parent directory and replace if names match\n",
    "    for file_name in os.listdir(new_folder):\n",
    "        source_path = os.path.join(new_folder, file_name)\n",
    "        destination_path = os.path.join(directory, file_name)\n",
    "        \n",
    "        if os.path.exists(destination_path):\n",
    "            os.remove(destination_path)\n",
    "            print(f\"Replaced: {destination_path}\")\n",
    "        \n",
    "        shutil.move(source_path, directory)\n",
    "        print(f\"Moved: {source_path} to {directory}\")\n",
    "    \n",
    "    # Safely delete the new folder, ensuring it's not named 'downloads'\n",
    "    if os.path.basename(new_folder).lower() != 'downloads':\n",
    "        shutil.rmtree(new_folder)\n",
    "        print(f\"Deleted folder: {new_folder}\")\n",
    "    else:\n",
    "        print(\"Safety check: Attempted to delete a folder named 'downloads'. Aborting deletion.\")\n",
    "\n",
    "def set_dpi_exiftool(directory_path, dpi=300):\n",
    "    try:\n",
    "        # Construct the ExifTool command\n",
    "        command = [\n",
    "            \"exiftool\",\n",
    "            \"-overwrite_original\", \n",
    "            \"-r\", \n",
    "            f\"-XResolution={dpi}\",\n",
    "            f\"-YResolution={dpi}\",\n",
    "            \"-ResolutionUnit=2\", \n",
    "            directory_path\n",
    "        ]\n",
    "        \n",
    "        # Run the command using subprocess\n",
    "        subprocess.run(command, check=True)\n",
    "        print(f\"Successfully set DPI to {dpi} for all images in {directory_path}\")\n",
    "    except subprocess.CalledProcessError as e:\n",
    "        print(f\"An error occurred while setting DPI: {e}\")\n",
    "    except Exception as e:\n",
    "        print(f\"An unexpected error occurred: {e}\")\n",
    "\n",
    "def adjust_dpi_for_selected_images(directory):\n",
    "    for root, dirs, files in os.walk(directory):\n",
    "        for file in files:\n",
    "            if any(suffix in file for suffix in [\"_34.png\", \"_45.png\", \"_23.png\", \"_ISO.png\", \"_11x14.png\"]):\n",
    "                file_path = os.path.join(root, file)\n",
    "                set_dpi_exiftool(file_path, dpi=300)\n",
    "\n",
    "def organize_images(directory, prelisting_folder):\n",
    "    image_names = [file for file in os.listdir(directory) if file.lower().endswith(('.png', '.jpg', '.jpeg', '.tiff', '.bmp', '.gif'))]\n",
    "    \n",
    "    # Determine base name from the first image with \"_1x.png\"\n",
    "    base_name = None\n",
    "    for image_name in image_names:\n",
    "        if \"_1x.png\" in image_name:\n",
    "            base_name = image_name.split('_1x')[0]\n",
    "            break\n",
    "\n",
    "    if not base_name:\n",
    "        print(\"No _1x.png image found.\")\n",
    "        return\n",
    "    \n",
    "    # Create directories for organizing images\n",
    "    new_dir = os.path.join(prelisting_folder, base_name)\n",
    "    etsy_dir = os.path.join(new_dir, 'etsy')\n",
    "    google_docs_dir = os.path.join(new_dir, 'google_docs')\n",
    "    os.makedirs(etsy_dir, exist_ok=True)\n",
    "    os.makedirs(google_docs_dir, exist_ok=True)\n",
    "    \n",
    "    for image_name in image_names:\n",
    "        file_path = os.path.join(directory, image_name)\n",
    "        \n",
    "        if \"_1x.png\" in image_name or \"mockup\" in image_name.lower():\n",
    "            shutil.move(file_path, os.path.join(etsy_dir, image_name))\n",
    "            print(f\"Moved {image_name} to {etsy_dir}\")\n",
    "        elif any(suffix in image_name for suffix in [\"_34.png\", \"_45.png\", \"_23.png\", \"_ISO.png\", \"_11x14.png\"]):\n",
    "            shutil.move(file_path, os.path.join(google_docs_dir, image_name))\n",
    "            print(f\"Moved {image_name} to {google_docs_dir}\")\n",
    "\n",
    "    # Rename the files in the google_docs directory\n",
    "    rename_files_in_google_docs(google_docs_dir)\n",
    "\n",
    "def rename_files_in_google_docs(google_docs_dir):\n",
    "    for file_name in os.listdir(google_docs_dir):\n",
    "        # Initialize new_name as None\n",
    "        new_name = None\n",
    "        \n",
    "        # Replace aspect ratio suffixes with appropriate format for vertical variants\n",
    "        if \"_34.png\" in file_name:\n",
    "            new_name = \"3x4.png\"\n",
    "        elif \"_45.png\" in file_name:\n",
    "            new_name = \"4x5.png\"\n",
    "        elif \"_23.png\" in file_name:\n",
    "            new_name = \"2x3.png\"\n",
    "        elif \"_11x14.png\" in file_name:\n",
    "            new_name = \"11x14.png\"\n",
    "        elif \"_ISO.png\" in file_name:\n",
    "            new_name = \"ISO.png\"\n",
    "        \n",
    "        if new_name:\n",
    "            old_path = os.path.join(google_docs_dir, file_name)\n",
    "            new_path = os.path.join(google_docs_dir, new_name)\n",
    "            os.rename(old_path, new_path)\n",
    "            print(f\"Renamed: {old_path} to {new_path}\")\n",
    "\n",
    "# Paths\n",
    "download_directory = '/Users/matt/Pictures/Midjourney/Imagine/Downloads'\n",
    "prelisting_folder = '/Users/matt/Pictures/Midjourney/Digital Products/DoubleVision/Matisse/Prelisting'\n",
    "\n",
    "# Move and replace images, then delete the subfolder\n",
    "move_and_replace_images_in_directory(download_directory)\n",
    "\n",
    "# Adjust DPI for selected images\n",
    "adjust_dpi_for_selected_images(download_directory)\n",
    "\n",
    "# Organize images into folders and rename them in google_docs folder\n",
    "organize_images(download_directory, prelisting_folder)\n"
   ]
  },
  {
   "cell_type": "code",
   "execution_count": null,
   "metadata": {},
   "outputs": [],
   "source": []
  }
 ],
 "metadata": {
  "kernelspec": {
   "display_name": "venv",
   "language": "python",
   "name": "python3"
  },
  "language_info": {
   "codemirror_mode": {
    "name": "ipython",
    "version": 3
   },
   "file_extension": ".py",
   "mimetype": "text/x-python",
   "name": "python",
   "nbconvert_exporter": "python",
   "pygments_lexer": "ipython3",
   "version": "3.12.4"
  }
 },
 "nbformat": 4,
 "nbformat_minor": 2
}
