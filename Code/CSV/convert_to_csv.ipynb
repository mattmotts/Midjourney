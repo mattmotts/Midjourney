{
 "cells": [
  {
   "cell_type": "markdown",
   "metadata": {},
   "source": [
    "## Convert .ndjson to Pandas\n",
    "Here we will take the .ndjson file saved from LabelBox and convert it to a more friendly looking, Pandas Dataframe"
   ]
  },
  {
   "cell_type": "code",
   "execution_count": 2,
   "metadata": {},
   "outputs": [
    {
     "name": "stdout",
     "output_type": "stream",
     "text": [
      "Requirement already satisfied: pandas in /Users/matt/Documents/Coding/Midjourney/venv/lib/python3.12/site-packages (2.2.2)\n",
      "Collecting ndjson\n",
      "  Using cached ndjson-0.3.1-py2.py3-none-any.whl.metadata (3.2 kB)\n",
      "Requirement already satisfied: numpy>=1.26.0 in /Users/matt/Documents/Coding/Midjourney/venv/lib/python3.12/site-packages (from pandas) (2.1.0)\n",
      "Requirement already satisfied: python-dateutil>=2.8.2 in /Users/matt/Documents/Coding/Midjourney/venv/lib/python3.12/site-packages (from pandas) (2.9.0.post0)\n",
      "Requirement already satisfied: pytz>=2020.1 in /Users/matt/Documents/Coding/Midjourney/venv/lib/python3.12/site-packages (from pandas) (2024.1)\n",
      "Requirement already satisfied: tzdata>=2022.7 in /Users/matt/Documents/Coding/Midjourney/venv/lib/python3.12/site-packages (from pandas) (2024.1)\n",
      "Requirement already satisfied: six>=1.5 in /Users/matt/Documents/Coding/Midjourney/venv/lib/python3.12/site-packages (from python-dateutil>=2.8.2->pandas) (1.16.0)\n",
      "Using cached ndjson-0.3.1-py2.py3-none-any.whl (5.3 kB)\n",
      "Installing collected packages: ndjson\n",
      "Successfully installed ndjson-0.3.1\n",
      "\n",
      "\u001b[1m[\u001b[0m\u001b[34;49mnotice\u001b[0m\u001b[1;39;49m]\u001b[0m\u001b[39;49m A new release of pip is available: \u001b[0m\u001b[31;49m24.0\u001b[0m\u001b[39;49m -> \u001b[0m\u001b[32;49m24.2\u001b[0m\n",
      "\u001b[1m[\u001b[0m\u001b[34;49mnotice\u001b[0m\u001b[1;39;49m]\u001b[0m\u001b[39;49m To update, run: \u001b[0m\u001b[32;49mpip install --upgrade pip\u001b[0m\n"
     ]
    }
   ],
   "source": [
    "!pip install pandas ndjson"
   ]
  },
  {
   "cell_type": "code",
   "execution_count": 4,
   "metadata": {},
   "outputs": [
    {
     "name": "stdout",
     "output_type": "stream",
     "text": [
      "                image_id                                          image_url  \\\n",
      "0    bathroom_mockup.png  https://storage.labelbox.com/clxkxmd5l0unt07zt...   \n",
      "1     bedroom_mockup.png  https://storage.labelbox.com/clxkxmd5l0unt07zt...   \n",
      "2     hallway_mockup.png  https://storage.labelbox.com/clxkxmd5l0unt07zt...   \n",
      "3     kitchen_mockup.png  https://storage.labelbox.com/clxkxmd5l0unt07zt...   \n",
      "4  livingroom_mockup.png  https://storage.labelbox.com/clxkxmd5l0unt07zt...   \n",
      "5      office_mockup.png  https://storage.labelbox.com/clxkxmd5l0unt07zt...   \n",
      "\n",
      "         label    top   left  height  width  \n",
      "0  Blank Frame  275.0  362.0   260.0  358.0  \n",
      "1  Blank Frame  109.0  264.0   346.0  487.0  \n",
      "2  Blank Frame  134.0  268.0   331.0  446.0  \n",
      "3  Blank Frame   62.0  272.0   327.0  460.0  \n",
      "4  Blank Frame   96.0  285.0   365.0  525.0  \n",
      "5  Blank Frame   88.0  289.0   356.0  577.0  \n"
     ]
    }
   ],
   "source": [
    "import pandas as pd\n",
    "import ndjson\n",
    "\n",
    "# Load .ndjson data\n",
    "with open('../../data/mockups819.ndjson') as f:\n",
    "    data = ndjson.load(f)\n",
    "\n",
    "# Convert to DataFrame\n",
    "df = pd.json_normalize(data)\n",
    "\n",
    "# Extract relevant columns\n",
    "annotations = []\n",
    "for item in data:\n",
    "    for project_id, project_data in item['projects'].items():\n",
    "        for label in project_data['labels']:\n",
    "            for obj in label['annotations']['objects']:\n",
    "                annotations.append({\n",
    "                    'image_id': item['data_row']['external_id'],\n",
    "                    'image_url': item['data_row']['row_data'],\n",
    "                    'label': obj['name'],\n",
    "                    'top': obj['bounding_box']['top'],\n",
    "                    'left': obj['bounding_box']['left'],\n",
    "                    'height': obj['bounding_box']['height'],\n",
    "                    'width': obj['bounding_box']['width']\n",
    "                })\n",
    "\n",
    "annotations_df = pd.DataFrame(annotations)\n",
    "\n",
    "# Save the DataFrame to a CSV file if needed\n",
    "annotations_df.to_csv('../../data/mockup819.csv', index=False)\n",
    "\n",
    "print(annotations_df)\n"
   ]
  },
  {
   "cell_type": "markdown",
   "metadata": {},
   "source": [
    "# Convert URL Path to Local"
   ]
  },
  {
   "cell_type": "code",
   "execution_count": 1,
   "metadata": {},
   "outputs": [
    {
     "name": "stdout",
     "output_type": "stream",
     "text": [
      "Initial DataFrame:\n",
      "                image_id                                          image_url  \\\n",
      "0    bathroom_mockup.png  https://storage.labelbox.com/clxkxmd5l0unt07zt...   \n",
      "1     bedroom_mockup.png  https://storage.labelbox.com/clxkxmd5l0unt07zt...   \n",
      "2     hallway_mockup.png  https://storage.labelbox.com/clxkxmd5l0unt07zt...   \n",
      "3     kitchen_mockup.png  https://storage.labelbox.com/clxkxmd5l0unt07zt...   \n",
      "4  livingroom_mockup.png  https://storage.labelbox.com/clxkxmd5l0unt07zt...   \n",
      "5      office_mockup.png  https://storage.labelbox.com/clxkxmd5l0unt07zt...   \n",
      "\n",
      "         label    top   left  height  width  \n",
      "0  Blank Frame  275.0  362.0   260.0  358.0  \n",
      "1  Blank Frame  109.0  264.0   346.0  487.0  \n",
      "2  Blank Frame  134.0  268.0   331.0  446.0  \n",
      "3  Blank Frame   62.0  272.0   327.0  460.0  \n",
      "4  Blank Frame   96.0  285.0   365.0  525.0  \n",
      "5  Blank Frame   88.0  289.0   356.0  577.0  \n",
      "Modified DataFrame with new 'image_path' column:\n",
      "                image_id                                         image_path  \\\n",
      "0    bathroom_mockup.png  /Users/matt/Pictures/Midjourney/Imagine/Mockup...   \n",
      "1     bedroom_mockup.png  /Users/matt/Pictures/Midjourney/Imagine/Mockup...   \n",
      "2     hallway_mockup.png  /Users/matt/Pictures/Midjourney/Imagine/Mockup...   \n",
      "3     kitchen_mockup.png  /Users/matt/Pictures/Midjourney/Imagine/Mockup...   \n",
      "4  livingroom_mockup.png  /Users/matt/Pictures/Midjourney/Imagine/Mockup...   \n",
      "5      office_mockup.png  /Users/matt/Pictures/Midjourney/Imagine/Mockup...   \n",
      "\n",
      "         label    top   left  height  width  \n",
      "0  Blank Frame  275.0  362.0   260.0  358.0  \n",
      "1  Blank Frame  109.0  264.0   346.0  487.0  \n",
      "2  Blank Frame  134.0  268.0   331.0  446.0  \n",
      "3  Blank Frame   62.0  272.0   327.0  460.0  \n",
      "4  Blank Frame   96.0  285.0   365.0  525.0  \n",
      "5  Blank Frame   88.0  289.0   356.0  577.0  \n"
     ]
    }
   ],
   "source": [
    "import pandas as pd\n",
    "\n",
    "# Load the data from the CSV file\n",
    "file_path = '../../data/mockup819.csv'  # Update this with the correct file path\n",
    "df = pd.read_csv(file_path)\n",
    "\n",
    "# Display the initial DataFrame\n",
    "print(\"Initial DataFrame:\")\n",
    "print(df)\n",
    "\n",
    "# Drop the 'image_url' column\n",
    "df = df.drop(columns=['image_url'])\n",
    "\n",
    "# Define the base path for the new column\n",
    "base_path = '/Users/matt/Pictures/Midjourney/Imagine/Mockups/'\n",
    "\n",
    "# Create the new 'image_path' column using the 'image_id' values\n",
    "df['image_path'] = base_path + df['image_id']\n",
    "\n",
    "# Reorder the columns\n",
    "columns_order = ['image_id', 'image_path', 'label', 'top', 'left', 'height', 'width']\n",
    "df = df[columns_order]\n",
    "\n",
    "# Display the modified DataFrame\n",
    "print(\"Modified DataFrame with new 'image_path' column:\")\n",
    "print(df)\n",
    "\n",
    "# Save the modified DataFrame back to a CSV file if needed\n",
    "modified_file_path = '../../data/mockup819new.csv'\n",
    "df.to_csv(modified_file_path, index=False)\n",
    "\n",
    "# # Display the modified DataFrame using the ace_tools display function\n",
    "# import ace_tools as tools; tools.display_dataframe_to_user(name=\"Converted Image Paths With New Column\", dataframe=df)\n"
   ]
  },
  {
   "cell_type": "code",
   "execution_count": null,
   "metadata": {},
   "outputs": [],
   "source": []
  }
 ],
 "metadata": {
  "kernelspec": {
   "display_name": "Python 3",
   "language": "python",
   "name": "python3"
  },
  "language_info": {
   "codemirror_mode": {
    "name": "ipython",
    "version": 3
   },
   "file_extension": ".py",
   "mimetype": "text/x-python",
   "name": "python",
   "nbconvert_exporter": "python",
   "pygments_lexer": "ipython3",
   "version": "3.12.4"
  }
 },
 "nbformat": 4,
 "nbformat_minor": 2
}
