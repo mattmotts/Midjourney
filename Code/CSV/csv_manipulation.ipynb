{
 "cells": [
  {
   "cell_type": "markdown",
   "metadata": {},
   "source": [
    "## Convert .ndjson to Pandas\n",
    "Here we will take the .ndjson file saved from LabelBox and convert it to a more friendly looking, Pandas Dataframe"
   ]
  },
  {
   "cell_type": "code",
   "execution_count": 1,
   "metadata": {},
   "outputs": [
    {
     "name": "stdout",
     "output_type": "stream",
     "text": [
      "Requirement already satisfied: pandas in /Users/matt/Documents/Coding/Midjourney/venv/lib/python3.12/site-packages (2.2.2)\n",
      "Requirement already satisfied: ndjson in /Users/matt/Documents/Coding/Midjourney/venv/lib/python3.12/site-packages (0.3.1)\n",
      "Requirement already satisfied: numpy>=1.26.0 in /Users/matt/Documents/Coding/Midjourney/venv/lib/python3.12/site-packages (from pandas) (2.1.0)\n",
      "Requirement already satisfied: python-dateutil>=2.8.2 in /Users/matt/Documents/Coding/Midjourney/venv/lib/python3.12/site-packages (from pandas) (2.9.0.post0)\n",
      "Requirement already satisfied: pytz>=2020.1 in /Users/matt/Documents/Coding/Midjourney/venv/lib/python3.12/site-packages (from pandas) (2024.1)\n",
      "Requirement already satisfied: tzdata>=2022.7 in /Users/matt/Documents/Coding/Midjourney/venv/lib/python3.12/site-packages (from pandas) (2024.1)\n",
      "Requirement already satisfied: six>=1.5 in /Users/matt/Documents/Coding/Midjourney/venv/lib/python3.12/site-packages (from python-dateutil>=2.8.2->pandas) (1.16.0)\n"
     ]
    }
   ],
   "source": [
    "!pip install pandas ndjson"
   ]
  },
  {
   "cell_type": "code",
   "execution_count": 4,
   "metadata": {},
   "outputs": [
    {
     "name": "stdout",
     "output_type": "stream",
     "text": [
      "           image_id                                          image_url  \\\n",
      "0   mockup_0001.png  https://storage.labelbox.com/clxkxmd5l0unt07zt...   \n",
      "1   mockup_0002.png  https://storage.labelbox.com/clxkxmd5l0unt07zt...   \n",
      "2   mockup_0003.png  https://storage.labelbox.com/clxkxmd5l0unt07zt...   \n",
      "3   mockup_0005.png  https://storage.labelbox.com/clxkxmd5l0unt07zt...   \n",
      "4   mockup_0006.png  https://storage.labelbox.com/clxkxmd5l0unt07zt...   \n",
      "..              ...                                                ...   \n",
      "57  mockup_0019.png  https://storage.labelbox.com/clxkxmd5l0unt07zt...   \n",
      "58  mockup_0024.png  https://storage.labelbox.com/clxkxmd5l0unt07zt...   \n",
      "59  mockup_0027.png  https://storage.labelbox.com/clxkxmd5l0unt07zt...   \n",
      "60  mockup_0035.png  https://storage.labelbox.com/clxkxmd5l0unt07zt...   \n",
      "61  mockup_0043.png  https://storage.labelbox.com/clxkxmd5l0unt07zt...   \n",
      "\n",
      "          label     top    left  height   width  \n",
      "0   Blank Frame  1097.0  1444.0  1048.0  1436.0  \n",
      "1   Blank Frame   432.0  1050.0  1391.0  1957.0  \n",
      "2   Blank Frame   535.0  1064.0  1331.0  1792.0  \n",
      "3   Blank Frame   388.0  1139.0  1448.0  2105.0  \n",
      "4   Blank Frame   354.0  1166.0  1416.0  2293.0  \n",
      "..          ...     ...     ...     ...     ...  \n",
      "57  Blank Frame  1131.0  1158.0  1301.0  1995.0  \n",
      "58  Blank Frame  1063.0  1101.0  1463.0  1790.0  \n",
      "59  Blank Frame   673.0  1007.0  1440.0  2274.0  \n",
      "60  Blank Frame   973.0   996.0  1879.0  1933.0  \n",
      "61  Blank Frame  1255.0  1220.0  2004.0  1658.0  \n",
      "\n",
      "[62 rows x 7 columns]\n"
     ]
    }
   ],
   "source": [
    "import pandas as pd\n",
    "import ndjson\n",
    "\n",
    "# Load .ndjson data\n",
    "with open('/Users/Matt/Documents/Data/mockup_data.ndjson') as f:\n",
    "    data = ndjson.load(f)\n",
    "\n",
    "# Convert to DataFrame\n",
    "df = pd.json_normalize(data)\n",
    "\n",
    "# Extract relevant columns\n",
    "annotations = []\n",
    "for item in data:\n",
    "    for project_id, project_data in item['projects'].items():\n",
    "        for label in project_data['labels']:\n",
    "            for obj in label['annotations']['objects']:\n",
    "                annotations.append({\n",
    "                    'image_id': item['data_row']['external_id'],\n",
    "                    'image_url': item['data_row']['row_data'],\n",
    "                    'label': obj['name'],\n",
    "                    'top': obj['bounding_box']['top'],\n",
    "                    'left': obj['bounding_box']['left'],\n",
    "                    'height': obj['bounding_box']['height'],\n",
    "                    'width': obj['bounding_box']['width']\n",
    "                })\n",
    "\n",
    "annotations_df = pd.DataFrame(annotations)\n",
    "\n",
    "# Save the DataFrame to a CSV file if needed\n",
    "annotations_df.to_csv('/Users/Matt/Documents/Data/mockup_data.csv', index=False)\n",
    "\n",
    "print(annotations_df)\n"
   ]
  },
  {
   "cell_type": "markdown",
   "metadata": {},
   "source": [
    "# Convert URL Path to Local"
   ]
  },
  {
   "cell_type": "code",
   "execution_count": 5,
   "metadata": {},
   "outputs": [
    {
     "name": "stdout",
     "output_type": "stream",
     "text": [
      "Initial DataFrame:\n",
      "           image_id                                          image_url  \\\n",
      "0   mockup_0001.png  https://storage.labelbox.com/clxkxmd5l0unt07zt...   \n",
      "1   mockup_0002.png  https://storage.labelbox.com/clxkxmd5l0unt07zt...   \n",
      "2   mockup_0003.png  https://storage.labelbox.com/clxkxmd5l0unt07zt...   \n",
      "3   mockup_0005.png  https://storage.labelbox.com/clxkxmd5l0unt07zt...   \n",
      "4   mockup_0006.png  https://storage.labelbox.com/clxkxmd5l0unt07zt...   \n",
      "..              ...                                                ...   \n",
      "57  mockup_0019.png  https://storage.labelbox.com/clxkxmd5l0unt07zt...   \n",
      "58  mockup_0024.png  https://storage.labelbox.com/clxkxmd5l0unt07zt...   \n",
      "59  mockup_0027.png  https://storage.labelbox.com/clxkxmd5l0unt07zt...   \n",
      "60  mockup_0035.png  https://storage.labelbox.com/clxkxmd5l0unt07zt...   \n",
      "61  mockup_0043.png  https://storage.labelbox.com/clxkxmd5l0unt07zt...   \n",
      "\n",
      "          label     top    left  height   width  \n",
      "0   Blank Frame  1097.0  1444.0  1048.0  1436.0  \n",
      "1   Blank Frame   432.0  1050.0  1391.0  1957.0  \n",
      "2   Blank Frame   535.0  1064.0  1331.0  1792.0  \n",
      "3   Blank Frame   388.0  1139.0  1448.0  2105.0  \n",
      "4   Blank Frame   354.0  1166.0  1416.0  2293.0  \n",
      "..          ...     ...     ...     ...     ...  \n",
      "57  Blank Frame  1131.0  1158.0  1301.0  1995.0  \n",
      "58  Blank Frame  1063.0  1101.0  1463.0  1790.0  \n",
      "59  Blank Frame   673.0  1007.0  1440.0  2274.0  \n",
      "60  Blank Frame   973.0   996.0  1879.0  1933.0  \n",
      "61  Blank Frame  1255.0  1220.0  2004.0  1658.0  \n",
      "\n",
      "[62 rows x 7 columns]\n",
      "Modified DataFrame with new 'image_path' column:\n",
      "           image_id                                         image_path  \\\n",
      "0   mockup_0001.png  /Users/Matt/Pictures/Midjourney/Imagine/Mockup...   \n",
      "1   mockup_0002.png  /Users/Matt/Pictures/Midjourney/Imagine/Mockup...   \n",
      "2   mockup_0003.png  /Users/Matt/Pictures/Midjourney/Imagine/Mockup...   \n",
      "3   mockup_0005.png  /Users/Matt/Pictures/Midjourney/Imagine/Mockup...   \n",
      "4   mockup_0006.png  /Users/Matt/Pictures/Midjourney/Imagine/Mockup...   \n",
      "..              ...                                                ...   \n",
      "57  mockup_0019.png  /Users/Matt/Pictures/Midjourney/Imagine/Mockup...   \n",
      "58  mockup_0024.png  /Users/Matt/Pictures/Midjourney/Imagine/Mockup...   \n",
      "59  mockup_0027.png  /Users/Matt/Pictures/Midjourney/Imagine/Mockup...   \n",
      "60  mockup_0035.png  /Users/Matt/Pictures/Midjourney/Imagine/Mockup...   \n",
      "61  mockup_0043.png  /Users/Matt/Pictures/Midjourney/Imagine/Mockup...   \n",
      "\n",
      "          label     top    left  height   width  \n",
      "0   Blank Frame  1097.0  1444.0  1048.0  1436.0  \n",
      "1   Blank Frame   432.0  1050.0  1391.0  1957.0  \n",
      "2   Blank Frame   535.0  1064.0  1331.0  1792.0  \n",
      "3   Blank Frame   388.0  1139.0  1448.0  2105.0  \n",
      "4   Blank Frame   354.0  1166.0  1416.0  2293.0  \n",
      "..          ...     ...     ...     ...     ...  \n",
      "57  Blank Frame  1131.0  1158.0  1301.0  1995.0  \n",
      "58  Blank Frame  1063.0  1101.0  1463.0  1790.0  \n",
      "59  Blank Frame   673.0  1007.0  1440.0  2274.0  \n",
      "60  Blank Frame   973.0   996.0  1879.0  1933.0  \n",
      "61  Blank Frame  1255.0  1220.0  2004.0  1658.0  \n",
      "\n",
      "[62 rows x 7 columns]\n"
     ]
    }
   ],
   "source": [
    "import pandas as pd\n",
    "\n",
    "# Load the data from the CSV file\n",
    "file_path = '/Users/Matt/Documents/Data/mockup_data.csv'  # Update this with the correct file path\n",
    "df = pd.read_csv(file_path)\n",
    "\n",
    "# Display the initial DataFrame\n",
    "print(\"Initial DataFrame:\")\n",
    "print(df)\n",
    "\n",
    "# Drop the 'image_url' column\n",
    "df = df.drop(columns=['image_url'])\n",
    "\n",
    "# Define the base path for the new column\n",
    "base_path = '/Users/Matt/Pictures/Midjourney/Imagine/Mockups/'\n",
    "\n",
    "# Create the new 'image_path' column using the 'image_id' values\n",
    "df['image_path'] = base_path + df['image_id']\n",
    "\n",
    "# Reorder the columns\n",
    "columns_order = ['image_id', 'image_path', 'label', 'top', 'left', 'height', 'width']\n",
    "df = df[columns_order]\n",
    "\n",
    "# Display the modified DataFrame\n",
    "print(\"Modified DataFrame with new 'image_path' column:\")\n",
    "print(df)\n",
    "\n",
    "# Save the modified DataFrame back to a CSV file if needed\n",
    "modified_file_path = '/Users/Matt/Documents/Data/mockup_data.csv'\n",
    "df.to_csv(modified_file_path, index=False)\n",
    "\n",
    "# # Display the modified DataFrame using the ace_tools display function\n",
    "# import ace_tools as tools; tools.display_dataframe_to_user(name=\"Converted Image Paths With New Column\", dataframe=df)\n"
   ]
  },
  {
   "cell_type": "code",
   "execution_count": null,
   "metadata": {},
   "outputs": [],
   "source": []
  }
 ],
 "metadata": {
  "kernelspec": {
   "display_name": "venv",
   "language": "python",
   "name": "python3"
  },
  "language_info": {
   "codemirror_mode": {
    "name": "ipython",
    "version": 3
   },
   "file_extension": ".py",
   "mimetype": "text/x-python",
   "name": "python",
   "nbconvert_exporter": "python",
   "pygments_lexer": "ipython3",
   "version": "3.12.4"
  }
 },
 "nbformat": 4,
 "nbformat_minor": 2
}
