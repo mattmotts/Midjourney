{
 "cells": [
  {
   "cell_type": "code",
   "execution_count": 1,
   "metadata": {},
   "outputs": [
    {
     "name": "stdout",
     "output_type": "stream",
     "text": [
      "File: /Users/matt/Pictures/Midjourney/test/test.png, DPI information is not available.\n"
     ]
    }
   ],
   "source": [
    "# checks the DPI of images within a folder\n",
    "\n",
    "from PIL import Image\n",
    "import os\n",
    "\n",
    "def get_image_dpi(image_path):\n",
    "    try:\n",
    "        # Open an image file\n",
    "        with Image.open(image_path) as img:\n",
    "            # Get DPI\n",
    "            dpi = img.info.get('dpi', (None, None))\n",
    "            if dpi[0] is None or dpi[1] is None:\n",
    "                return (image_path, \"DPI information is not available.\")\n",
    "            else:\n",
    "                return (image_path, f'DPI: {dpi[0]}x{dpi[1]}')\n",
    "    except Exception as e:\n",
    "        return (image_path, f\"An error occurred: {e}\")\n",
    "\n",
    "def compare_image_dpi(directory_path):\n",
    "    results = []\n",
    "    for filename in os.listdir(directory_path):\n",
    "        if filename.lower().endswith(('.png', '.jpg', '.jpeg', '.tiff', '.bmp', '.gif')):\n",
    "            file_path = os.path.join(directory_path, filename)\n",
    "            results.append(get_image_dpi(file_path))\n",
    "    return results\n",
    "\n",
    "# Replace with the path to your image directory\n",
    "directory_path = '/Users/matt/Pictures/Midjourney/test'\n",
    "dpi_comparisons = compare_image_dpi(directory_path)\n",
    "\n",
    "# Print results\n",
    "for file, dpi_info in dpi_comparisons:\n",
    "    print(f'File: {file}, {dpi_info}')\n"
   ]
  },
  {
   "cell_type": "code",
   "execution_count": 2,
   "metadata": {},
   "outputs": [
    {
     "name": "stdout",
     "output_type": "stream",
     "text": [
      "DPI set to 301x301 for /Users/matt/Pictures/Midjourney/test/test.png\n"
     ]
    }
   ],
   "source": [
    "# changes the DPI of those images to ~300\n",
    "\n",
    "from PIL import Image\n",
    "import os\n",
    "\n",
    "def set_image_dpi(image_path, dpi=(301, 301)):\n",
    "    try:\n",
    "        # Open an image file\n",
    "        with Image.open(image_path) as img:\n",
    "            # Set DPI\n",
    "            img.save(image_path, dpi=dpi)\n",
    "            print(f'DPI set to {dpi[0]}x{dpi[1]} for {image_path}')\n",
    "    except Exception as e:\n",
    "        print(f\"An error occurred: {e}\")\n",
    "\n",
    "def process_directory(directory_path, dpi=(301, 301)):\n",
    "    for filename in os.listdir(directory_path):\n",
    "        if filename.lower().endswith(('.png', '.jpg', '.jpeg', '.tiff', '.bmp', '.gif')):\n",
    "            file_path = os.path.join(directory_path, filename)\n",
    "            set_image_dpi(file_path, dpi)\n",
    "\n",
    "# Replace with the path to your image directory\n",
    "directory_path = '/Users/matt/Pictures/Midjourney/test'\n",
    "# directory_path = '/Users/matt/Pictures/Midjourney/goldenbloomvase/upscaled'\n",
    "\n",
    "process_directory(directory_path, dpi=(301, 301))\n"
   ]
  },
  {
   "cell_type": "code",
   "execution_count": 13,
   "metadata": {},
   "outputs": [
    {
     "name": "stderr",
     "output_type": "stream",
     "text": [
      "Warning: Can't convert IFD0:ResolutionUnit (not in PrintConv)\n"
     ]
    },
    {
     "name": "stdout",
     "output_type": "stream",
     "text": [
      "    1 directories scanned\n",
      "    1 image files updated\n",
      "Successfully set DPI to 300 for all images in /users/matt/pictures/midjourney/test\n"
     ]
    }
   ],
   "source": [
    "import subprocess\n",
    "import os\n",
    "\n",
    "def set_dpi_exiftool(directory_path, dpi=300):\n",
    "    try:\n",
    "        # Construct the ExifTool command\n",
    "        command = [\n",
    "            \"exiftool\",\n",
    "            \"-overwrite_original\", \n",
    "            \"-r\", \n",
    "            f\"-XResolution={dpi}\",\n",
    "            f\"-YResolution={dpi}\",\n",
    "            \"-ResolutionUnit=2\", \n",
    "            directory_path\n",
    "        ]\n",
    "        \n",
    "        # Run the command using subprocess\n",
    "        subprocess.run(command, check=True)\n",
    "        print(f\"Successfully set DPI to {dpi} for all images in {directory_path}\")\n",
    "    except subprocess.CalledProcessError as e:\n",
    "        print(f\"An error occurred while setting DPI: {e}\")\n",
    "    except Exception as e:\n",
    "        print(f\"An unexpected error occurred: {e}\")\n",
    "\n",
    "# Replace with the path to your image directory\n",
    "directory_path = '/users/matt/pictures/midjourney/test'\n",
    "\n",
    "# Set DPI for all images in the directory\n",
    "set_dpi_exiftool(directory_path, dpi=300)\n"
   ]
  },
  {
   "cell_type": "code",
   "execution_count": 19,
   "metadata": {},
   "outputs": [
    {
     "name": "stdout",
     "output_type": "stream",
     "text": [
      "DPI of /users/matt/pictures/midjourney/test3.jpg: (300.0, 300.0)\n",
      "DPI of /users/matt/pictures/midjourney/test/test.png: (None, None)\n"
     ]
    }
   ],
   "source": [
    "from PIL import Image\n",
    "\n",
    "def compare_image_dpi(image_path1, image_path2):\n",
    "    with Image.open(image_path1) as img1, Image.open(image_path2) as img2:\n",
    "        dpi1 = img1.info.get('dpi', (None, None))\n",
    "        dpi2 = img2.info.get('dpi', (None, None))\n",
    "        print(f\"DPI of {image_path1}: {dpi1}\")\n",
    "        print(f\"DPI of {image_path2}: {dpi2}\")\n",
    "\n",
    "# Replace with your image paths\n",
    "image_path1 = '/users/matt/pictures/midjourney/test3.jpg'\n",
    "image_path2 = '/users/matt/pictures/midjourney/test/test.png'\n",
    "\n",
    "compare_image_dpi(image_path1, image_path2)\n"
   ]
  },
  {
   "cell_type": "code",
   "execution_count": 14,
   "metadata": {},
   "outputs": [
    {
     "name": "stdout",
     "output_type": "stream",
     "text": [
      "File: /Users/matt/Pictures/Midjourney/test/test.png, DPI information is not available.\n"
     ]
    }
   ],
   "source": [
    "# Checks DPI again to verify \n",
    "\n",
    "from PIL import Image\n",
    "import os\n",
    "\n",
    "def get_image_dpi(image_path):\n",
    "    try:\n",
    "        # Open an image file\n",
    "        with Image.open(image_path) as img:\n",
    "            # Get DPI\n",
    "            dpi = img.info.get('dpi', (None, None))\n",
    "            if dpi[0] is None or dpi[1] is None:\n",
    "                return (image_path, \"DPI information is not available.\")\n",
    "            else:\n",
    "                return (image_path, f'DPI: {dpi[0]}x{dpi[1]}')\n",
    "    except Exception as e:\n",
    "        return (image_path, f\"An error occurred: {e}\")\n",
    "\n",
    "def compare_image_dpi(directory_path):\n",
    "    results = []\n",
    "    for filename in os.listdir(directory_path):\n",
    "        if filename.lower().endswith(('.png', '.jpg', '.jpeg', '.tiff', '.bmp', '.gif')):\n",
    "            file_path = os.path.join(directory_path, filename)\n",
    "            results.append(get_image_dpi(file_path))\n",
    "    return results\n",
    "\n",
    "# Replace with the path to your image directory\n",
    "directory_path = '/Users/matt/Pictures/Midjourney/test'\n",
    "dpi_comparisons = compare_image_dpi(directory_path)\n",
    "\n",
    "# Print results\n",
    "for file, dpi_info in dpi_comparisons:\n",
    "    print(f'File: {file}, {dpi_info}')\n"
   ]
  },
  {
   "cell_type": "code",
   "execution_count": null,
   "metadata": {},
   "outputs": [],
   "source": []
  }
 ],
 "metadata": {
  "kernelspec": {
   "display_name": "venv",
   "language": "python",
   "name": "python3"
  },
  "language_info": {
   "codemirror_mode": {
    "name": "ipython",
    "version": 3
   },
   "file_extension": ".py",
   "mimetype": "text/x-python",
   "name": "python",
   "nbconvert_exporter": "python",
   "pygments_lexer": "ipython3",
   "version": "3.12.4"
  }
 },
 "nbformat": 4,
 "nbformat_minor": 2
}
